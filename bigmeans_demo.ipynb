{
 "cells": [
  {
   "cell_type": "markdown",
   "metadata": {},
   "source": [
    "# Big-means: K-means for big data clustering"
   ]
  },
  {
   "cell_type": "markdown",
   "metadata": {},
   "source": [
    "Rustam Mussabayev, Nenad Mladenovic, Bassem Jarboui, Ravil Mussabayev. How to Use K-means for Big Data Clustering? // Pattern Recognition, Volume 137, May 2023, 109269; \n",
    "https://doi.org/10.1016/j.patcog.2022.109269"
   ]
  },
  {
   "cell_type": "code",
   "execution_count": 1,
   "metadata": {},
   "outputs": [],
   "source": [
    "from bigmeans import *\n",
    "import math\n",
    "import csv\n",
    "import numpy as np\n",
    "import matplotlib.pyplot as plt\n",
    "\n",
    "def load_dataset():\n",
    "    filename = 'skin_segmentation.data'\n",
    "    columns = slice(0, 3)\n",
    "    with open(filename, newline='') as f1:\n",
    "        reader = csv.reader(f1, delimiter='\\t')\n",
    "        raw = [row[columns] for row in reader]\n",
    "    return np.array(raw, dtype=float)\n",
    "\n",
    "points = load_dataset()\n",
    "\n",
    "\n",
    "# Big-means parameters:\n",
    "sample_size = 160000 # The number of data points to be randomly selected from the input dataset at each iteration of the Big-means.\n",
    "n_centers = 25 # The desired number of clusters\n",
    "max_iter = 2000 # Maximum number of samples to be processed\n",
    "tmax = 1000.0 # The time limit for the search process (in seconds); a zero or negative value means no limit.\n",
    "local_max_iters = 300 # The maximum number of K-means iterations before declaring convergence and stopping the clustering process for each sample.\n",
    "local_tol = 0.0001 # The threshold below which the relative change in the objective function between two iterations must fall to declare convergence of K-means.\n",
    "n_candidates = 3 # The number of candidate centers to choose from at each stage of the K-means++ initialization algorithm\n",
    "\n",
    "\n",
    "\n",
    "nb.set_num_threads(nb.config.NUMBA_NUM_THREADS) # Set the number of threads for parallel execution to the maximum possible\n",
    "#nb.set_num_threads(3) # Set the number of threads for parallel execution to the some value\n",
    "\n",
    "# Best Known Solution (for comparison)\n",
    "f_best = 102280000\n"
   ]
  },
  {
   "cell_type": "code",
   "execution_count": 3,
   "metadata": {},
   "outputs": [
    {
     "name": "stdout",
     "output_type": "stream",
     "text": [
      "SEQUENTIAL BIG-MEANS:\n",
      "\n",
      "sample objective              n_iter         cpu_time       \n",
      "69293741.229442               1              0.43           \n",
      "69223473.846065               5              0.64           \n",
      "69022076.218531               6              0.68           \n",
      "68964761.587398               7              0.73           \n",
      "68834556.997361               11             0.93           \n",
      "68511068.952671               38             2.28           \n",
      "68495261.735416               908            46.29          \n",
      "68487201.386202               1929           98.66          \n",
      "\n",
      "#Iterations:  2000\n",
      "#Distances:  24981806425\n",
      "Full Objective:  106035132.15935105\n",
      "Objective Gap:  3.54 %\n",
      "\n",
      "CPU times: user 1min 42s, sys: 30 ms, total: 1min 42s\n",
      "Wall time: 1min 42s\n"
     ]
    }
   ],
   "source": [
    "%%time\n",
    "print('SEQUENTIAL BIG-MEANS:')\n",
    "print()\n",
    "centers, objective, assignment, n_iter, best_n_iter, best_time, n_dists = big_means_sequential(points, n_centers, sample_size, max_iter, tmax, local_max_iters, local_tol, n_candidates, True)\n",
    "print()\n",
    "print('#Iterations: ', n_iter)\n",
    "print('#Distances: ', n_dists)\n",
    "print('Full Objective: ', objective)\n",
    "objective_gap = round((objective - f_best) / objective * 100, 2)\n",
    "print('Objective Gap: ', objective_gap, '%')\n",
    "print()"
   ]
  },
  {
   "cell_type": "code",
   "execution_count": 6,
   "metadata": {},
   "outputs": [],
   "source": []
  },
  {
   "cell_type": "code",
   "execution_count": 5,
   "metadata": {},
   "outputs": [
    {
     "name": "stdout",
     "output_type": "stream",
     "text": [
      "BIG-MEANS WITH 'INNER PARALLELISM':\n",
      "\n",
      "sample objective              n_iter         cpu_time       \n",
      "70074694.464533               1              0.13           \n",
      "70019288.972940               6              0.20           \n",
      "69962827.253794               9              0.27           \n",
      "69717493.239673               19             0.44           \n",
      "69625523.429908               34             0.68           \n",
      "69605115.011869               368            6.02           \n",
      "69552421.627137               383            6.34           \n",
      "69500734.236141               406            6.70           \n",
      "69426186.951997               701            11.39          \n",
      "69425156.067758               1014           16.30          \n",
      "69247934.559932               1604           26.03          \n",
      "\n",
      "#Iterations:  2000\n",
      "#Distances:  24273806425\n",
      "Full Objective:  107626144.49978782\n",
      "Objective Gap:  4.97 %\n",
      "\n",
      "CPU times: user 5min 12s, sys: 734 ms, total: 5min 13s\n",
      "Wall time: 32.6 s\n"
     ]
    }
   ],
   "source": [
    "%%time\n",
    "print(\"BIG-MEANS WITH 'INNER PARALLELISM':\")\n",
    "print()\n",
    "centers, objective, assignment, n_iter, best_n_iter, best_time, n_dists = big_means_inner(points, n_centers, sample_size, max_iter, tmax, local_max_iters, local_tol, n_candidates, True)\n",
    "print()\n",
    "print('#Iterations: ', n_iter)\n",
    "print('#Distances: ', n_dists)\n",
    "print('Full Objective: ', objective)\n",
    "objective_gap = round((objective - f_best) / objective * 100, 2)\n",
    "print('Objective Gap: ', objective_gap, '%')\n",
    "print()"
   ]
  },
  {
   "cell_type": "code",
   "execution_count": null,
   "metadata": {},
   "outputs": [],
   "source": []
  },
  {
   "cell_type": "code",
   "execution_count": 8,
   "metadata": {},
   "outputs": [
    {
     "name": "stdout",
     "output_type": "stream",
     "text": [
      "BIG-MEANS WITH 'COMPETITIVE PARALLELISM':\n",
      "\n",
      "sample objective              n_iter         cpu_time       \n",
      "71010453.196253               1              1.14           \n",
      "69590621.491709               2              1.16           \n",
      "70270655.933662               3              1.17           \n",
      "70726779.523461               4              1.18           \n",
      "69335159.995975               5              1.23           \n",
      "74039588.963294               6              1.25           \n",
      "69363697.432248               9              1.30           \n",
      "70037853.587414               13             1.40           \n",
      "69440090.561419               16             1.42           \n",
      "70133179.934012               19             1.48           \n",
      "69832767.857292               24             1.52           \n",
      "67626233.097587               25             1.52           \n",
      "69224169.917026               27             1.55           \n",
      "69237519.036051               32             1.62           \n",
      "67250324.420984               37             1.65           \n",
      "67218682.881757               57             1.87           \n",
      "67151009.890158               68             1.97           \n",
      "67003461.896746               155            2.82           \n",
      "66812708.890290               739            8.22           \n",
      "\n",
      "#Iterations:  2011\n",
      "#Distances:  25638286425\n",
      "Full Objective:  103282530.93368647\n",
      "Objective Gap:  0.97 %\n",
      "\n",
      "CPU times: user 4min 3s, sys: 170 ms, total: 4min 3s\n",
      "Wall time: 20.4 s\n"
     ]
    }
   ],
   "source": [
    "%%time\n",
    "print(\"BIG-MEANS WITH 'COMPETITIVE PARALLELISM':\")\n",
    "print()\n",
    "centers, objective, assignment, n_iter, best_n_iter, best_time, n_dists = big_means_competitive(points, n_centers, sample_size, max_iter, tmax, local_max_iters, local_tol, n_candidates, True)\n",
    "print()\n",
    "print('#Iterations: ', n_iter)\n",
    "print('#Distances: ', n_dists)\n",
    "print('Full Objective: ', objective)\n",
    "objective_gap = round((objective - f_best) / objective * 100, 2)\n",
    "print('Objective Gap: ', objective_gap, '%')\n",
    "print()"
   ]
  },
  {
   "cell_type": "code",
   "execution_count": null,
   "metadata": {},
   "outputs": [],
   "source": []
  },
  {
   "cell_type": "code",
   "execution_count": 9,
   "metadata": {},
   "outputs": [
    {
     "name": "stdout",
     "output_type": "stream",
     "text": [
      "BIG-MEANS WITH 'COLLECTIVE PARALLELISM':\n",
      "\n",
      "sample objective              n_iter         cpu_time       \n",
      "71134396.476587               1              1.23           \n",
      "71344463.845906               2              1.24           \n",
      "72835056.080045               3              1.27           \n",
      "70194712.761034               4              1.30           \n",
      "68890254.335119               5              1.30           \n",
      "70871325.010844               6              1.35           \n",
      "70854206.972676               7              1.36           \n",
      "70593604.704333               8              1.39           \n",
      "71426082.708606               9              1.40           \n",
      "72762996.489543               12             1.44           \n",
      "68629365.794029               13             1.46           \n",
      "70453883.021562               14             1.47           \n",
      "68808551.911702               18             1.54           \n",
      "72682458.115644               20             1.55           \n",
      "69171808.973895               29             1.68           \n",
      "68583175.575990               40             1.82           \n",
      "70503472.960254               50             1.94           \n",
      "67712052.378190               54             1.99           \n",
      "67636898.705485               68             2.11           \n",
      "67537260.820722               69             2.12           \n",
      "67649352.778950               75             2.18           \n",
      "67654414.897885               78             2.22           \n",
      "67454580.696566               81             2.24           \n",
      "67361280.929313               87             2.30           \n",
      "67520574.818825               88             2.31           \n",
      "67129303.883510               91             2.34           \n",
      "\n",
      "#Iterations:  2011\n",
      "#Distances:  25094286425\n",
      "Full Objective:  103937391.3936564\n",
      "Objective Gap:  1.59 %\n",
      "\n",
      "CPU times: user 4min 26s, sys: 250 ms, total: 4min 26s\n",
      "Wall time: 30 s\n"
     ]
    }
   ],
   "source": [
    "%%time\n",
    "print(\"BIG-MEANS WITH 'COLLECTIVE PARALLELISM':\")\n",
    "print()\n",
    "centers, objective, assignment, n_iter, best_n_iter, best_time, n_dists = big_means_collective(points, n_centers, sample_size, max_iter, tmax, local_max_iters, local_tol, n_candidates, True)\n",
    "print()\n",
    "print('#Iterations: ', n_iter)\n",
    "print('#Distances: ', n_dists)\n",
    "print('Full Objective: ', objective)\n",
    "objective_gap = round((objective - f_best) / objective * 100, 2)\n",
    "print('Objective Gap: ', objective_gap, '%')\n",
    "print()"
   ]
  },
  {
   "cell_type": "code",
   "execution_count": null,
   "metadata": {},
   "outputs": [],
   "source": []
  },
  {
   "cell_type": "code",
   "execution_count": 9,
   "metadata": {},
   "outputs": [
    {
     "name": "stdout",
     "output_type": "stream",
     "text": [
      "BIG-MEANS WITH 'HYBRID PARALLELISM':\n",
      "\n",
      "sample objective              n_iter         cpu_time       \n",
      "76905659.478232               1              1.15           \n",
      "68126041.510885               3              1.27           \n",
      "72307454.695430               4              1.28           \n",
      "68920421.121746               5              1.30           67708695.192375               6              1.30           \n",
      "\n",
      "68374544.072110               7              1.33           \n",
      "71481797.351898               8              1.35           \n",
      "67472299.790755               12             1.42           \n",
      "71627396.122817               16             1.47           \n",
      "70490738.468369               20             1.52           \n",
      "67389620.297408               21             1.53           \n",
      "67140187.769132               29             1.64           \n",
      "71528225.744739               37             1.75           \n",
      "69970263.509243               41             1.80           \n",
      "69099336.328487               50             1.94           \n",
      "67010665.223146               566            6.97           \n",
      "66938086.156383               1109           12.30          \n",
      "66936876.070284               1875           20.03          \n",
      "66924215.476675               2033           21.67          \n",
      "66837776.313701               2072           22.12          \n",
      "66624697.271425               2241           23.88          \n",
      "\n",
      "#Iterations:  4011\n",
      "#Distances:  49822286425\n",
      "Full Objective:  103407932.18269652\n",
      "Objective Gap:  1.09 %\n",
      "\n",
      "CPU times: user 8min 26s, sys: 270 ms, total: 8min 26s\n",
      "Wall time: 42.4 s\n"
     ]
    }
   ],
   "source": [
    "%%time\n",
    "print(\"BIG-MEANS WITH 'HYBRID PARALLELISM':\")\n",
    "print()\n",
    "centers, objective, assignment, n_iter, best_n_iter, best_time, n_dists = big_means_hybrid(points, n_centers, sample_size, max_iter, max_iter, tmax, tmax, local_max_iters, local_tol, n_candidates, True)\n",
    "print()\n",
    "print('#Iterations: ', n_iter)\n",
    "print('#Distances: ', n_dists)\n",
    "print('Full Objective: ', objective)\n",
    "objective_gap = round((objective - f_best) / objective * 100, 2)\n",
    "print('Objective Gap: ', objective_gap, '%')\n",
    "print()"
   ]
  },
  {
   "cell_type": "code",
   "execution_count": null,
   "metadata": {},
   "outputs": [],
   "source": []
  }
 ],
 "metadata": {
  "kernelspec": {
   "display_name": "Python 3",
   "language": "python",
   "name": "python3"
  },
  "language_info": {
   "codemirror_mode": {
    "name": "ipython",
    "version": 3
   },
   "file_extension": ".py",
   "mimetype": "text/x-python",
   "name": "python",
   "nbconvert_exporter": "python",
   "pygments_lexer": "ipython3",
   "version": "3.8.8"
  }
 },
 "nbformat": 4,
 "nbformat_minor": 2
}
